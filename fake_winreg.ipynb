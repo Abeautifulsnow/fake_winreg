{
 "cells": [
  {
   "metadata": {
    "pycharm": {
     "name": "#%%\n"
    },
    "trusted": false
   },
   "cell_type": "code",
   "source": [
    "# update pip and setuptools\n",
    "import sys\n",
    "!{sys.executable} -m pip install --upgrade pip\n",
    "!{sys.executable} -m pip install --upgrade setuptools\n",
    "\n",
    "# install fake_winreg from pypi\n",
    "!{sys.executable} -m pip install --upgrade fake_winreg\n",
    "\n",
    "# install fake_winreg from github\n",
    "!{sys.executable} -m pip install --upgrade git+https://github.com/bitranox/fake_winreg.git"
   ],
   "execution_count": null,
   "outputs": []
  },
  {
   "metadata": {
    "pycharm": {
     "name": "#%%\n"
    },
    "trusted": false
   },
   "cell_type": "code",
   "source": [
    "# import\n",
    "import fake_winreg\n"
   ],
   "execution_count": null,
   "outputs": []
  },
  {
   "metadata": {
    "pycharm": {
     "name": "#%%\n"
    },
    "trusted": false
   },
   "cell_type": "code",
   "source": [
    "# setup a fake registry for windows\n",
    "fake_registry_windows = fake_winreg.FakeRegistry()\n",
    "\n",
    "# fill some minimal values\n",
    "fake_winreg.setup_fake_registry.set_minimal_windows_testvalues(fake_registry_windows)"
   ],
   "execution_count": null,
   "outputs": []
  },
  {
   "metadata": {
    "pycharm": {
     "name": "#%%\n"
    },
    "trusted": false
   },
   "cell_type": "code",
   "source": [
    "# set up the fake winreg with the created fake registry\n",
    "winreg = fake_winreg.FakeWinReg(fake_registry=fake_registry_windows)\n",
    "\n"
   ],
   "execution_count": null,
   "outputs": []
  },
  {
   "metadata": {
    "pycharm": {
     "name": "#%%\n"
    },
    "trusted": false
   },
   "cell_type": "code",
   "source": [
    "# try the fake registry\n",
    "reg_handle = winreg.ConnectRegistry(None, winreg.HKEY_LOCAL_MACHINE)\n",
    "# Open Key\n",
    "reg_key = winreg.OpenKey(reg_handle, r'SOFTWARE\\Microsoft\\Windows NT\\CurrentVersion')\n",
    "winreg.QueryValueEx(reg_key, 'CurrentBuild')"
   ],
   "execution_count": null,
   "outputs": []
  }
 ],
 "metadata": {
  "language_info": {
   "name": "python",
   "version": "3.7.6",
   "mimetype": "text/x-python",
   "codemirror_mode": {
    "name": "ipython",
    "version": 3
   },
   "pygments_lexer": "ipython3",
   "nbconvert_exporter": "python",
   "file_extension": ".py"
  },
  "kernelspec": {
   "name": "python3",
   "display_name": "Python 3",
   "language": "python"
  }
 },
 "nbformat": 4,
 "nbformat_minor": 4
}