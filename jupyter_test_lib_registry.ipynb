{
  "cells": [
    {
      "cell_type": "code",
      "execution_count": 8,
      "metadata": {
        "pycharm": {
          "is_executing": false
        }
      },
      "outputs": [
        {
          "name": "stdout",
          "text": [
            "Collecting https://github.com/bitranox/lib_registry/archive/master.zip\n  Downloading https://github.com/bitranox/lib_registry/archive/master.zip\nRequirement already satisfied: pytest in c:\\python3\\lib\\site-packages (from lib-registry\u003d\u003d1.0.0) (4.3.0)\nRequirement already satisfied: six\u003e\u003d1.10.0 in c:\\python3\\lib\\site-packages (from pytest-\u003elib-registry\u003d\u003d1.0.0) (1.12.0)\nRequirement already satisfied: setuptools in c:\\python3\\lib\\site-packages (from pytest-\u003elib-registry\u003d\u003d1.0.0) (40.5.0)\nRequirement already satisfied: colorama; sys_platform \u003d\u003d \"win32\" in c:\\python3\\lib\\site-packages (from pytest-\u003elib-registry\u003d\u003d1.0.0) (0.4.1)\nRequirement already satisfied: py\u003e\u003d1.5.0 in c:\\python3\\lib\\site-packages (from pytest-\u003elib-registry\u003d\u003d1.0.0) (1.8.0)\nRequirement already satisfied: pluggy\u003e\u003d0.7 in c:\\python3\\lib\\site-packages (from pytest-\u003elib-registry\u003d\u003d1.0.0) (0.9.0)\nRequirement already satisfied: atomicwrites\u003e\u003d1.0 in c:\\python3\\lib\\site-packages (from pytest-\u003elib-registry\u003d\u003d1.0.0) (1.3.0)\nRequirement already satisfied: more-itertools\u003e\u003d4.0.0; python_version \u003e \"2.7\" in c:\\python3\\lib\\site-packages (from pytest-\u003elib-registry\u003d\u003d1.0.0) (6.0.0)\nRequirement already satisfied: attrs\u003e\u003d17.4.0 in c:\\python3\\lib\\site-packages (from pytest-\u003elib-registry\u003d\u003d1.0.0) (18.2.0)\nInstalling collected packages: lib-registry\n  Running setup.py install for lib-registry: started\n    Running setup.py install for lib-registry: finished with status \u0027done\u0027\nSuccessfully installed lib-registry-1.0.0\n"
          ],
          "output_type": "stream"
        }
      ],
      "source": "# Install a pip package in the current Jupyter kernel\nimport sys\n!{sys.executable} -m pip install https://github.com/bitranox/lib_registry/archive/master.zip\n    "
    },
    {
      "cell_type": "code",
      "execution_count": 18,
      "metadata": {
        "pycharm": {
          "is_executing": false
        }
      },
      "outputs": [
        {
          "traceback": [
            "\u001b[1;31m---------------------------------------------------------------------------\u001b[0m",
            "\u001b[1;31mNameError\u001b[0m                                 Traceback (most recent call last)",
            "\u001b[1;32m\u003cipython-input-18-3f9b8cf969bf\u003e\u001b[0m in \u001b[0;36m\u003cmodule\u003e\u001b[1;34m\u001b[0m\n\u001b[0;32m     11\u001b[0m \u001b[1;33m\u001b[0m\u001b[0m\n\u001b[0;32m     12\u001b[0m \u001b[1;33m\u001b[0m\u001b[0m\n\u001b[1;32m---\u003e 13\u001b[1;33m \u001b[0mget_number_of_subkeys\u001b[0m\u001b[1;33m(\u001b[0m\u001b[0mHKEY_USERS\u001b[0m\u001b[1;33m)\u001b[0m\u001b[1;33m\u001b[0m\u001b[1;33m\u001b[0m\u001b[0m\n\u001b[0m\u001b[0;32m     14\u001b[0m \u001b[1;33m\u001b[0m\u001b[0m\n\u001b[0;32m     15\u001b[0m \u001b[1;33m\u001b[0m\u001b[0m\n",
            "\u001b[1;31mNameError\u001b[0m: name \u0027get_number_of_subkeys\u0027 is not defined"
          ],
          "ename": "NameError",
          "evalue": "name \u0027get_number_of_subkeys\u0027 is not defined",
          "output_type": "error"
        }
      ],
      "source": "\nfrom winreg import *\nfrom lib_registry import *\n\n\nget_number_of_subkeys(HKEY_USERS)\n\n"
    },
    {
      "cell_type": "code",
      "execution_count": 2,
      "metadata": {
        "pycharm": {
          "is_executing": false
        }
      },
      "outputs": [],
      "source": ""
    }
  ],
  "metadata": {
    "kernelspec": {
      "display_name": "Python 3",
      "language": "python",
      "name": "python3"
    },
    "language_info": {
      "codemirror_mode": {
        "name": "ipython",
        "version": 3
      },
      "file_extension": ".py",
      "mimetype": "text/x-python",
      "name": "python",
      "nbconvert_exporter": "python",
      "pygments_lexer": "ipython3",
      "version": "3.7.2"
    }
  },
  "nbformat": 4,
  "nbformat_minor": 2
}